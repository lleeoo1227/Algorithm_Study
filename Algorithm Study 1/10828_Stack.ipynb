{
 "cells": [
  {
   "cell_type": "code",
   "execution_count": 1,
   "metadata": {},
   "outputs": [],
   "source": [
    "class stack :\n",
    "    def __init__(self) :\n",
    "        self.data = []\n",
    "    def push(self, x) :\n",
    "        self.data.append(x)\n",
    "    def pop(self) :\n",
    "        if not self.data :\n",
    "            return -1\n",
    "        else :\n",
    "            return self.data.pop()\n",
    "    def size(self) :\n",
    "        return len(self.data)\n",
    "    def empty(self) :\n",
    "        if not self.data :\n",
    "            return 1\n",
    "        else :\n",
    "            return 0\n",
    "    def top(self) :\n",
    "        if not self.daeta :\n",
    "            return -1\n",
    "        else :\n",
    "            return self.data[-1]\n"
   ]
  },
  {
   "cell_type": "code",
   "execution_count": null,
   "metadata": {},
   "outputs": [],
   "source": []
  }
 ],
 "metadata": {
  "kernelspec": {
   "display_name": "Python 3",
   "language": "python",
   "name": "python3"
  },
  "language_info": {
   "codemirror_mode": {
    "name": "ipython",
    "version": 3
   },
   "file_extension": ".py",
   "mimetype": "text/x-python",
   "name": "python",
   "nbconvert_exporter": "python",
   "pygments_lexer": "ipython3",
   "version": "3.7.6"
  }
 },
 "nbformat": 4,
 "nbformat_minor": 4
}
