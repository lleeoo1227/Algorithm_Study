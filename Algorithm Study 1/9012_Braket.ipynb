{
 "cells": [
  {
   "cell_type": "code",
   "execution_count": 8,
   "metadata": {},
   "outputs": [
    {
     "data": {
      "text/plain": [
       "'YES'"
      ]
     },
     "execution_count": 8,
     "metadata": {},
     "output_type": "execute_result"
    }
   ],
   "source": [
    "\n",
    "\n",
    "def VPS(string) :\n",
    "    data = list(string)\n",
    "    stack = []\n",
    "    if data[0] == '(' :\n",
    "        for i in data :\n",
    "            stack.append(i)\n",
    "            if len(stack) == 1 :\n",
    "                continue\n",
    "            #else :\n",
    "            #    l = len(stack)\n",
    "            #    if stack[l - 2] == '(' and stack[l - 1] == ')':\n",
    "            #        stack.pop()\n",
    "            #        stack.pop()\n",
    "            else :\n",
    "                a = stack.pop()\n",
    "                b = stack.pop()\n",
    "                if a == ')' and b == '(' :\n",
    "                    pass\n",
    "                else :\n",
    "                    stack.append(b)\n",
    "                    stack.append(a)\n",
    "            \n",
    "        if not stack :\n",
    "            return 'YES'\n",
    "        else :\n",
    "            return 'NO'\n",
    "    else :\n",
    "        return 'NO'\n",
    "    \n",
    "VPS('(()())((()))')\n",
    "\n"
   ]
  },
  {
   "cell_type": "code",
   "execution_count": null,
   "metadata": {},
   "outputs": [],
   "source": []
  }
 ],
 "metadata": {
  "kernelspec": {
   "display_name": "Python 3",
   "language": "python",
   "name": "python3"
  },
  "language_info": {
   "codemirror_mode": {
    "name": "ipython",
    "version": 3
   },
   "file_extension": ".py",
   "mimetype": "text/x-python",
   "name": "python",
   "nbconvert_exporter": "python",
   "pygments_lexer": "ipython3",
   "version": "3.7.6"
  }
 },
 "nbformat": 4,
 "nbformat_minor": 4
}
