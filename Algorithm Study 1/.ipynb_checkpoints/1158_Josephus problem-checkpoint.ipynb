{
 "cells": [
  {
   "cell_type": "code",
   "execution_count": 1,
   "metadata": {},
   "outputs": [
    {
     "data": {
      "text/plain": [
       "[3, 6, 2, 7, 5, 1, 4]"
      ]
     },
     "execution_count": 1,
     "metadata": {},
     "output_type": "execute_result"
    }
   ],
   "source": [
    "from Algorithms.DataStructures import CircularQueue\n",
    "\n",
    "def Josephus(N, K) :\n",
    "    js = CircularQueue(N)\n",
    "    result = []\n",
    "    \n",
    "    for i in range(1, N + 1) :\n",
    "        js.enqueue(i)\n",
    "    \n",
    "    count = 0\n",
    "    \n",
    "    while js.cq != [None] * (N + 1) :\n",
    "       \n",
    "        count += 1\n",
    "\n",
    "        \n",
    "        if count == K :\n",
    "            data = js.dequeue()\n",
    "            result.append(data)\n",
    "            count = 0\n",
    "        \n",
    "        elif js.empty() :\n",
    "            break\n",
    "            \n",
    "        else :\n",
    "            data = js.dequeue()\n",
    "            js.enqueue(data)\n",
    "            \n",
    "    return result\n",
    "\n",
    "Josephus(7, 3)"
   ]
  },
  {
   "cell_type": "code",
   "execution_count": 5,
   "metadata": {},
   "outputs": [
    {
     "name": "stdout",
     "output_type": "stream",
     "text": [
      "[ 1, 2, 3, 4, 5, 6, 7 ]\n"
     ]
    }
   ],
   "source": [
    "#Using CircularlyLinkedList\n",
    "\n",
    "from Algorithms.DataStructures import Node\n",
    "from Algorithms.DataStructures import CircularlyLinkedList\n",
    "\n",
    "data = CircularlyLinkedList()\n",
    "for i in range(1, 8) :\n",
    "    data.AddNode(i, i - 1)\n",
    "    \n",
    "print(data)\n",
    "\n",
    "count = 0\n",
    "while data :\n",
    "    "
   ]
  }
 ],
 "metadata": {
  "kernelspec": {
   "display_name": "Python 3",
   "language": "python",
   "name": "python3"
  },
  "language_info": {
   "codemirror_mode": {
    "name": "ipython",
    "version": 3
   },
   "file_extension": ".py",
   "mimetype": "text/x-python",
   "name": "python",
   "nbconvert_exporter": "python",
   "pygments_lexer": "ipython3",
   "version": "3.7.6"
  }
 },
 "nbformat": 4,
 "nbformat_minor": 4
}
