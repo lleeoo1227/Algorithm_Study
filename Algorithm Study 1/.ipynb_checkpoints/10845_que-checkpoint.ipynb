{
 "cells": [
  {
   "cell_type": "code",
   "execution_count": 20,
   "metadata": {},
   "outputs": [
    {
     "name": "stdout",
     "output_type": "stream",
     "text": [
      "1\n",
      "2\n",
      "2\n",
      "0\n",
      "1\n",
      "2\n",
      "-1\n",
      "0\n",
      "1\n",
      "-1\n",
      "0\n",
      "3\n"
     ]
    }
   ],
   "source": [
    "class que :\n",
    "    def __init__(self) :\n",
    "        self.data = []\n",
    "    def push(self, x) :\n",
    "        self.data.append(x)\n",
    "    def pop(self) :\n",
    "        if not self.data :\n",
    "            return -1\n",
    "        else :\n",
    "            a = self.data[0]\n",
    "            self.data.remove(a)\n",
    "            return a\n",
    "    def size(self) :\n",
    "        return len(self.data)\n",
    "    def empty(self) :\n",
    "        if not self.data :\n",
    "            return 1\n",
    "        else :\n",
    "            return 0\n",
    "    def front(self) :\n",
    "        if not self.data :\n",
    "            return -1\n",
    "        else :\n",
    "            return self.data[0]\n",
    "    def back(self) :\n",
    "        if not self.data :\n",
    "            return -1\n",
    "        else :\n",
    "            return self.data[-1]\n",
    "        \n",
    "a = que()\n",
    "a.push(1)\n",
    "a.push(2)\n",
    "print(a.front())\n",
    "print(a.back())\n",
    "print(a.size())\n",
    "print(a.empty())\n",
    "print(a.pop())\n",
    "print(a.pop())\n",
    "print(a.pop())\n",
    "print(a.size())\n",
    "print(a.empty())\n",
    "print(a.pop())\n",
    "a.push(3)\n",
    "print(a.empty())\n",
    "print(a.front())"
   ]
  },
  {
   "cell_type": "code",
   "execution_count": null,
   "metadata": {},
   "outputs": [],
   "source": []
  }
 ],
 "metadata": {
  "kernelspec": {
   "display_name": "Python 3",
   "language": "python",
   "name": "python3"
  },
  "language_info": {
   "codemirror_mode": {
    "name": "ipython",
    "version": 3
   },
   "file_extension": ".py",
   "mimetype": "text/x-python",
   "name": "python",
   "nbconvert_exporter": "python",
   "pygments_lexer": "ipython3",
   "version": "3.7.6"
  }
 },
 "nbformat": 4,
 "nbformat_minor": 4
}
