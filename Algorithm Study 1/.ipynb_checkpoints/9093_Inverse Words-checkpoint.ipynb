{
 "cells": [
  {
   "cell_type": "code",
   "execution_count": 1,
   "metadata": {},
   "outputs": [
    {
     "name": "stdout",
     "output_type": "stream",
     "text": [
      "[['I'], ['a', 'm'], ['h', 'a', 'p', 'p', 'y'], ['t', 'o', 'd', 'a', 'y']]\n",
      "[['I'], ['m', 'a'], ['y', 'p', 'p', 'a', 'h'], ['y', 'a', 'd', 'o', 't']]\n",
      "I ma yppah yadot\n"
     ]
    }
   ],
   "source": [
    "data = 'I am happy today'\n",
    "rawdata = data.split()\n",
    "\n",
    "words = [list(new) for new in rawdata]\n",
    "\n",
    "print(words)\n",
    "\n",
    "stack = []\n",
    "\n",
    "for word in words :\n",
    "    stack2 = []\n",
    "    while word :\n",
    "        a = word.pop()\n",
    "        stack2.append(a)\n",
    "        \n",
    "    stack.append(stack2)\n",
    "    \n",
    "print(stack)       \n",
    "\n",
    "\n",
    "result = \" \".join([''.join(letter) for letter in stack])\n",
    "print(result)\n",
    "\n"
   ]
  },
  {
   "cell_type": "code",
   "execution_count": null,
   "metadata": {},
   "outputs": [],
   "source": []
  }
 ],
 "metadata": {
  "kernelspec": {
   "display_name": "Python 3",
   "language": "python",
   "name": "python3"
  },
  "language_info": {
   "codemirror_mode": {
    "name": "ipython",
    "version": 3
   },
   "file_extension": ".py",
   "mimetype": "text/x-python",
   "name": "python",
   "nbconvert_exporter": "python",
   "pygments_lexer": "ipython3",
   "version": "3.7.6"
  }
 },
 "nbformat": 4,
 "nbformat_minor": 4
}
