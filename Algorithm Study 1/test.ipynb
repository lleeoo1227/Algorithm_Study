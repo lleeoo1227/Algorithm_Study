{
 "cells": [
  {
   "cell_type": "code",
   "execution_count": 2,
   "metadata": {},
   "outputs": [
    {
     "name": "stdout",
     "output_type": "stream",
     "text": [
      "[ 2, 5 ]\n",
      "[ 2, 3, 5 ]\n",
      "Deleted node's data :  2\n",
      "[ 3, 5 ]\n",
      "Deleted node's data :  5\n",
      "[ 3 ]\n",
      "Deleted node's data :  3\n",
      "0\n",
      "List is EMPTY\n"
     ]
    }
   ],
   "source": [
    "from Algorithms.DataStructures import Node\n",
    "from Algorithms.DataStructures import SinglyLinkedList\n",
    "from Algorithms.DataStructures import CircularlyLinkedList\n",
    "from Algorithms.DataStructures import Node_DLL\n",
    "from Algorithms.DataStructures import DoublyLinkedList\n",
    "\n",
    "my = DoublyLinkedList(5)\n",
    "my.AddNode(2)\n",
    "print(my)\n",
    "my.AddNode(3, 1)\n",
    "print(my)\n",
    "my.DeleteNode()\n",
    "print(my)\n",
    "my.DeleteNode(1)\n",
    "print(my)\n",
    "my.DeleteNode()\n",
    "print(my.List_Size())\n",
    "print(my)"
   ]
  }
 ],
 "metadata": {
  "kernelspec": {
   "display_name": "Python 3",
   "language": "python",
   "name": "python3"
  },
  "language_info": {
   "codemirror_mode": {
    "name": "ipython",
    "version": 3
   },
   "file_extension": ".py",
   "mimetype": "text/x-python",
   "name": "python",
   "nbconvert_exporter": "python",
   "pygments_lexer": "ipython3",
   "version": "3.7.6"
  }
 },
 "nbformat": 4,
 "nbformat_minor": 4
}
