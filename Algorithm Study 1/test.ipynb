{
 "cells": [
  {
   "cell_type": "code",
   "execution_count": 3,
   "metadata": {
    "scrolled": true
   },
   "outputs": [
    {
     "name": "stdout",
     "output_type": "stream",
     "text": [
      "List is EMPTY\n",
      "[ 3 ]\n",
      "[ 3, 5 ]\n",
      "[ 3, 7, 5 ]\n",
      "Deleted node's data :  3\n",
      "[ 7, 5 ]\n",
      "[ 2, 7, 5 ]\n",
      "Deleted node's data :  7\n",
      "[ 2, 5 ]\n",
      "2\n",
      "Deleted node's data :  2\n",
      "[ 5 ]\n",
      "Deleted noed's data :  5\n",
      "List is EMPTY\n"
     ]
    }
   ],
   "source": [
    "from Algorithms.DataStructures import Node\n",
    "from Algorithms.DataStructures import SinglyLinkedList\n",
    "from Algorithms.DataStructures import CircularlyLinkedList\n",
    "from Algorithms.DataStructures import Node_DLL\n",
    "from Algorithms.DataStructures import DoublyLinkedList\n",
    "\n",
    "my = DoublyLinkedList()\n",
    "print(my)\n",
    "my.AddNode(3)\n",
    "print(my)\n",
    "my.AddNode(5, 4)\n",
    "print(my)\n",
    "my.AddNode(7, 1)\n",
    "print(my)\n",
    "my.DeleteNode()\n",
    "print(my)\n",
    "my.AddNode(2)\n",
    "print(my)\n",
    "my.DeleteNode(1)\n",
    "print(my)\n",
    "print(my.List_Size())\n",
    "my.DeleteNode()\n",
    "print(my)\n",
    "my.DeleteNode()\n",
    "print(my)"
   ]
  }
 ],
 "metadata": {
  "kernelspec": {
   "display_name": "Python 3",
   "language": "python",
   "name": "python3"
  },
  "language_info": {
   "codemirror_mode": {
    "name": "ipython",
    "version": 3
   },
   "file_extension": ".py",
   "mimetype": "text/x-python",
   "name": "python",
   "nbconvert_exporter": "python",
   "pygments_lexer": "ipython3",
   "version": "3.7.6"
  }
 },
 "nbformat": 4,
 "nbformat_minor": 4
}
