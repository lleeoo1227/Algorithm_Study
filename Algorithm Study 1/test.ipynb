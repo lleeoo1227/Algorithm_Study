{
 "cells": [
  {
   "cell_type": "code",
   "execution_count": 4,
   "metadata": {
    "scrolled": true
   },
   "outputs": [
    {
     "name": "stdout",
     "output_type": "stream",
     "text": [
      "40\n",
      "4\n",
      "34\n",
      "14\n",
      "15\n",
      "45\n",
      "55\n",
      "48\n",
      "47\n",
      "49\n"
     ]
    }
   ],
   "source": [
    "from Algorithms.DataStructures import Node_Tree\n",
    "from Algorithms.DataStructures import BST\n",
    "\n",
    "my = BST()\n",
    "datum = [40, 4, 34, 45, 14, 55, 48, 13, 15, 49, 47]\n",
    "for data in datum :\n",
    "    my.insert(data)\n",
    "    \n",
    "#my.pre_order_traversal()\n",
    "my.delete(13)\n",
    "my.pre_order_traversal()"
   ]
  }
 ],
 "metadata": {
  "kernelspec": {
   "display_name": "Python 3",
   "language": "python",
   "name": "python3"
  },
  "language_info": {
   "codemirror_mode": {
    "name": "ipython",
    "version": 3
   },
   "file_extension": ".py",
   "mimetype": "text/x-python",
   "name": "python",
   "nbconvert_exporter": "python",
   "pygments_lexer": "ipython3",
   "version": "3.7.6"
  }
 },
 "nbformat": 4,
 "nbformat_minor": 4
}
